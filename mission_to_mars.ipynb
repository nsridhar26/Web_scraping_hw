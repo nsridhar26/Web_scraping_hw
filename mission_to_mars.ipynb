{
 "cells": [
  {
   "cell_type": "code",
   "execution_count": 1,
   "metadata": {},
   "outputs": [],
   "source": [
    "# Dependencies\n",
    "from bs4 import BeautifulSoup\n",
    "import requests\n",
    "import pymongo\n",
    "from splinter import Browser\n",
    "import time\n",
    "time.sleep(5)\n",
    "import pandas as pd"
   ]
  },
  {
   "cell_type": "code",
   "execution_count": 2,
   "metadata": {},
   "outputs": [],
   "source": [
    "#splinter set-up\n",
    "executable_path = {'executable_path': 'chromedriver.exe'}\n",
    "browser = Browser('chrome', **executable_path, headless=False)"
   ]
  },
  {
   "cell_type": "code",
   "execution_count": 3,
   "metadata": {},
   "outputs": [],
   "source": [
    "url ='https://mars.nasa.gov/news/'\n",
    "browser.visit(url)"
   ]
  },
  {
   "cell_type": "code",
   "execution_count": 4,
   "metadata": {},
   "outputs": [],
   "source": [
    "# Initialize PyMongo to work with MongoDBs\n",
    "conn = 'mongodb://localhost:27017'\n",
    "client = pymongo.MongoClient(conn)"
   ]
  },
  {
   "cell_type": "code",
   "execution_count": 5,
   "metadata": {},
   "outputs": [],
   "source": [
    "\n",
    "html = browser.html\n",
    "soup = BeautifulSoup(html, 'html.parser')"
   ]
  },
  {
   "cell_type": "code",
   "execution_count": 6,
   "metadata": {},
   "outputs": [
    {
     "name": "stdout",
     "output_type": "stream",
     "text": [
      "['InSight Lands Praise and a Proclamation from LA County', 'After a Reset, Curiosity Is Operating Normally', 'InSight Is the Newest Mars Weather Service', \"Six Things to Know About NASA's Opportunity Rover\", \"NASA's Opportunity Rover Mission on Mars Comes to End\", \"NASA's InSight Prepares to Take Mars' Temperature\", 'NASA to Share Results of Effort to Recover Mars Rover', \"NASA's MAVEN Spacecraft Shrinking its Mars Orbit to Prepare for Mars 2020 Rover\", '360 Video: Curiosity Rover Departs Vera Rubin Ridge', 'Beyond Mars, the Mini MarCO Spacecraft Fall Silent', \"InSight's Seismometer Now Has a Cozy Shelter on Mars\", '\"Mars Buggy\" Curiosity Measures a Mountain\\'s Gravity', \"Curiosity Says Farewell to Mars' Vera Rubin Ridge\", 'Rover Team Beaming New Commands to Opportunity on Mars', \"NASA's Opportunity Rover Logs 15 Years on Mars\", \"NASA's InSight Places First Instrument on Mars\", 'InSight Engineers Have Made a Martian Rock Garden', 'Mars InSight Lander Seen in First Images from Space ', \"NASA's InSight Takes Its First Selfie\", \"NASA InSight Lander 'Hears' Martian Winds \", \"NASA's Mars InSight Flexes Its Arm\", \"Mars New Home 'a Large Sandbox'\", 'NASA Hears MarCO CubeSats Loud and Clear from Mars ', 'InSight Is Catching Rays on Mars', 'NASA InSight Lander Arrives on Martian Surface ', 'Landing Day for InSight', 'NASA InSight Landing on Mars: Milestones', 'NASA InSight Team on Course for Mars Touchdown', 'What Two Planetary Siblings Can Teach Us About Life', 'NASA Announces Landing Site for Mars 2020 Rover', 'NASA to Host Media Call on Next Mars Landing Site', 'How NASA Will Know When InSight Touches Down', 'NASA Brings Mars Landing to Viewers Everywhere', 'Curiosity on the Move Again', 'The Mars InSight Landing Site Is Just Plain Perfect', \"Five Things to Know About InSight's Mars Landing\", 'NASA Launches a New Podcast to Mars', 'Update on Opportunity Rover Recovery Efforts', 'Third ASPIRE Test Confirms Mars 2020 Parachute a Go', 'NASA to Host Briefing on November Mars InSight Landing', '\\nOpportunity Hunkers Down During Dust Storm\\n', '\\nNASA Finds Ancient Organic Material, Mysterious Methane on Mars\\n', '\\nNASA Invests in Visionary Technology \\n', \"\\nNASA's Opportunity Rover Mission on Mars Comes to End\\n\", \"\\nNASA's InSight Places First Instrument on Mars\\n\", '\\nNASA Announces Landing Site for Mars 2020 Rover\\n', '\\nOpportunity Hunkers Down During Dust Storm\\n', '\\nNASA Finds Ancient Organic Material, Mysterious Methane on Mars\\n', '\\nNASA Invests in Visionary Technology \\n', \"\\nNASA's Opportunity Rover Mission on Mars Comes to End\\n\", \"\\nNASA's InSight Places First Instrument on Mars\\n\", '\\nNASA Announces Landing Site for Mars 2020 Rover\\n']\n"
     ]
    }
   ],
   "source": [
    "#creates for loop to append titles\n",
    "titles=[]\n",
    "for div_tag in soup.find_all('div', class_='content_title'):\n",
    "    a_tag=div_tag.find('a').get_text()\n",
    "    titles.append(a_tag)\n",
    "print(titles)"
   ]
  },
  {
   "cell_type": "code",
   "execution_count": 7,
   "metadata": {},
   "outputs": [
    {
     "name": "stdout",
     "output_type": "stream",
     "text": [
      "['Several members of the Mars InSight team accepted a proclamation on behalf of the mission from L.A. County Board of Supervisors on Tuesday, Feb. 19.', \"NASA's Mars rover Curiosity is in good health but takes a short break while engineers diagnose why it reset its computer. \", \"By collecting data around the clock, NASA's lander will provide unique science about the Martian surface.\", \"Opportunity's mission is complete. Here are highlights from its time on Mars.\", \"NASA's Opportunity Mars rover mission is complete after 15 years on Mars. Opportunity's record-breaking exploration laid the groundwork for future missions to the Red Planet.\", \"The lander's second instrument is on the ground. But its ‘mole’ — a burrowing probe — has a long way to go.\", 'NASA will discuss the status of its Mars Exploration Rover Opportunity in a media briefing at 11 a.m. PST (2 p.m. EST) Wednesday, Feb. 13, from the Jet Propulsion Laboratory.', 'The MAVEN spacecraft today is starting a campaign to tighten its orbit around Mars to prepare to serve as a data-relay satellite for NASA’s Mars 2020 rover, which launches next year.', \"This panorama from the Mast Camera (Mastcam) on NASA's Curiosity Mars rover was taken on Dec. 19 (Sol 2265). The rover's last drill location on Vera Rubin Ridge is visible, as well as the clay region it will spend the next year exploring.\", 'The first CubeSat mission to deep space may have reached their limit, but they could inspire future NASA missions.', \"A domed shield has been set over one of InSight's primary science instruments, protecting it from Mars' wind and temperature changes.\", 'Smartphone-like sensors on the NASA rover were used to calculate the density of Mount Sharp, offering new clues to its formation.', \"The Mars rover is moving on and has taken its last selfie on the ridge it's explored for more than a year.\", 'Engineers at JPL have begun transmitting a new set of commands to Opportunity in an attempt to compel the Mars rover to contact Earth.', 'The rover landed in a region of the Red Planet called Meridiani Planum 16 years ago today, on Jan. 24, 2004.', 'In deploying its first instrument onto the surface of Mars, the lander completes a major mission milestone.', \"Reconstructing Mars here on Earth lets them practice setting down the lander's science instruments.\", \"Look closely, and you can make out the lander's solar panels.\", 'Two new image mosaics detail the lander\\'s deck and \"workspace\" — the surface where it will eventually set down its science instruments.', 'Vibrations picked up by two spacecraft instruments have provided the first sounds of Martian wind.', \"Now unstowed, the spacecraft's robotic arm will point a camera located on its elbow and take images of the surroundings.\", \"With InSight safely on the surface of Mars, the mission team is busy learning more about the spacecraft's landing site.\", \"A pair of tiny, experimental spacecraft fulfilled their mission yesterday, relaying back near-real-time data during InSight's landing.\", 'The lander has sent data indicating its solar panels are open and receiving sunlight to power its surface operations.', 'The touchdown marks the eighth time NASA has successfully landed a spacecraft on Mars.', \"NASA's InSight spacecraft is on target for Mars landing at around noon PST today.\", \"On Nov. 26, NASA's InSight spacecraft will blaze through the Martian atmosphere and set a lander gently on the surface in less time than it takes to cook a hard-boiled egg.\", \"NASA's Mars InSight spacecraft is on track for a soft touchdown on the surface of the Red Planet on Nov. 26.\", \"In studying Mars, NASA's InSight will reveal what makes one planet more or less suitable for life than another.\", 'After a five-year search, NASA has chosen Jezero Crater as the landing site for its upcoming Mars 2020 rover mission.', 'NASA will host a media teleconference at 9 a.m. PST (noon EST) Monday, Nov. 19, to provide details about the Mars 2020 rover’s landing site on the Red Planet.', 'On Nov. 26, engineers will look for a combination of signals to determine whether the next spacecraft to Mars lands safely.', \"NASA's InSight lander is scheduled to touch down on the Red Planet at approximately noon PST  on Nov. 26, with a new suite of instruments to probe below the Martian surface.\", \"NASA's Mars Curiosity rover drove about 197 feet over the weekend to a site called Lake Orcadie, pushing its total odometry to over 12 miles.\", 'If the InSight landing zone were ice cream, it would be vanilla.', \"NASA engineers will be holding their breath when their spacecraft heads into Mars' atmosphere on Nov. 26.\", \"NASA's new eight-episode series 'On a Mission' follows the InSight spacecraft on its journey to Mars and details the extraordinary challenges of landing on the Red Planet.\", 'After a review of the progress of the listening campaign, NASA will continue its current strategy for attempting to make contact with the Opportunity rover for the foreseeable future.', 'The supersonic parachute that will handle the heaviest payload yet to the Red Planet – Mars 2020 rover – passes its final sounding rocket test with flying colors.', \"A briefing on NASA's upcoming InSight Mars landing will air on Wed. Oct. 31 at 1:30 p.m. EDT (10:30 a.m. PDT) on NASA TV, the agency's website and NASA InSight Facebook Page.\"]\n"
     ]
    }
   ],
   "source": [
    "#creates for loop to append paragraph tags\n",
    "news_p=[]\n",
    "\n",
    "for li_tag in soup.find_all('li', class_='slide'):\n",
    "    div_tag=li_tag.find('div', class_='article_teaser_body').get_text()\n",
    "    news_p.append(div_tag)\n",
    "print(news_p)"
   ]
  },
  {
   "cell_type": "markdown",
   "metadata": {},
   "source": [
    "##JPL Mars Space Images "
   ]
  },
  {
   "cell_type": "code",
   "execution_count": 8,
   "metadata": {},
   "outputs": [],
   "source": [
    "url = 'https://www.jpl.nasa.gov/spaceimages/?search=&category=Mars'\n",
    "browser.visit(url)"
   ]
  },
  {
   "cell_type": "code",
   "execution_count": 9,
   "metadata": {},
   "outputs": [
    {
     "name": "stdout",
     "output_type": "stream",
     "text": [
      "None\n"
     ]
    }
   ],
   "source": [
    "feature_image_url = soup.find_all('article', class_= 'carousel_item')\n",
    "for link in soup.find_all('article'):\n",
    "    print(link.get('href'))"
   ]
  },
  {
   "cell_type": "code",
   "execution_count": 10,
   "metadata": {},
   "outputs": [
    {
     "name": "stdout",
     "output_type": "stream",
     "text": [
      "<article alt=\"Dawn's First Color Map of Ceres\" class=\"carousel_item\" style=\"background-image: url('/spaceimages/images/wallpaper/PIA19063-1920x1200.jpg');\">\n",
      "<div class=\"default floating_text_area ms-layer\">\n",
      "<h2 class=\"category_title\">\n",
      "</h2>\n",
      "<h2 class=\"brand_title\">\n",
      "\t\t\t\t  FEATURED IMAGE\n",
      "\t\t\t\t</h2>\n",
      "<h1 class=\"media_feature_title\">\n",
      "\t\t\t\t  Dawn's First Color Map of Ceres\t\t\t\t</h1>\n",
      "<div class=\"description\">\n",
      "</div>\n",
      "<footer>\n",
      "<a class=\"button fancybox\" data-description=\"This map-projected view of Ceres was created from images taken by NASA's Dawn spacecraft during its initial approach to the dwarf planet, prior to being captured into orbit in March 2015.\" data-fancybox-group=\"images\" data-fancybox-href=\"/spaceimages/images/mediumsize/PIA19063_ip.jpg\" data-link=\"/spaceimages/details.php?id=PIA19063\" data-title=\"Dawn's First Color Map of Ceres\" id=\"full_image\">\n",
      "\t\t\t\t\tFULL IMAGE\n",
      "\t\t\t\t  </a>\n",
      "</footer>\n",
      "</div>\n",
      "<div class=\"gradient_container_top\"></div>\n",
      "<div class=\"gradient_container_bottom\"></div>\n",
      "</article>\n"
     ]
    }
   ],
   "source": [
    "html = browser.html\n",
    "soup = BeautifulSoup(html, 'html.parser')\n",
    "feature = soup.find('article', class_=\"carousel_item\")\n",
    "\n",
    "#     for quote in quotes:\n",
    "#         print('page:', x, '-------------')\n",
    "#         print(quote.text)\n",
    "#for feature in feature:\n",
    "        # Use Beautiful Soup's find() method to navigate and retrieve attributes\n",
    "    #style=a.find(style)\n",
    "#     link = h3.find('a')\n",
    "#     href = link['href']\n",
    "#     title = link['title']\n",
    "print(feature)\n"
   ]
  },
  {
   "cell_type": "code",
   "execution_count": 11,
   "metadata": {},
   "outputs": [
    {
     "data": {
      "text/plain": [
       "\"background-image: url('/spaceimages/images/wallpaper/PIA19063-1920x1200.jpg');\""
      ]
     },
     "execution_count": 11,
     "metadata": {},
     "output_type": "execute_result"
    }
   ],
   "source": [
    "feature_url=soup.find('div', class_='carousel_items').find('article')['style']\n",
    "feature_url"
   ]
  },
  {
   "cell_type": "code",
   "execution_count": 12,
   "metadata": {},
   "outputs": [
    {
     "ename": "NameError",
     "evalue": "name 'string' is not defined",
     "output_type": "error",
     "traceback": [
      "\u001b[1;31m---------------------------------------------------------------------------\u001b[0m",
      "\u001b[1;31mNameError\u001b[0m                                 Traceback (most recent call last)",
      "\u001b[1;32m<ipython-input-12-09b8bb94baf5>\u001b[0m in \u001b[0;36m<module>\u001b[1;34m()\u001b[0m\n\u001b[1;32m----> 1\u001b[1;33m \u001b[0mfeature_url\u001b[0m\u001b[1;33m=\u001b[0m\u001b[0mstring\u001b[0m\u001b[1;33m.\u001b[0m\u001b[0msplit\u001b[0m\u001b[1;33m(\u001b[0m\u001b[1;34m':'\u001b[0m\u001b[1;33m)\u001b[0m\u001b[1;33m\u001b[0m\u001b[0m\n\u001b[0m",
      "\u001b[1;31mNameError\u001b[0m: name 'string' is not defined"
     ]
    }
   ],
   "source": [
    "feature_url=string.split(':')"
   ]
  },
  {
   "cell_type": "code",
   "execution_count": null,
   "metadata": {},
   "outputs": [],
   "source": [
    "#split the feature_url to get back only the URL\n",
    "feature_image_url=feature_url.str.split(':', expand=False).text"
   ]
  },
  {
   "cell_type": "code",
   "execution_count": null,
   "metadata": {},
   "outputs": [],
   "source": [
    "base_url='https://www.jpl.nasa.gov/spaceimages/?search=&category=Mars'\n",
    "print(f\"{base_url}{feature_image_url}\")"
   ]
  },
  {
   "cell_type": "markdown",
   "metadata": {},
   "source": [
    "Mars Weather"
   ]
  },
  {
   "cell_type": "code",
   "execution_count": null,
   "metadata": {},
   "outputs": [],
   "source": [
    "url = 'https://twitter.com/marswxreport?lang=en'\n",
    "browser.visit(url)"
   ]
  },
  {
   "cell_type": "code",
   "execution_count": null,
   "metadata": {},
   "outputs": [],
   "source": [
    "html = browser.html\n",
    "soup = BeautifulSoup(html, 'html.parser')\n",
    "tweets = soup.find_all('div', class_=\"js-tweet-text-container\")\n",
    "print(tweets)"
   ]
  },
  {
   "cell_type": "code",
   "execution_count": null,
   "metadata": {},
   "outputs": [],
   "source": [
    "tweets = soup.find(\"div\", class_=\"stream\").find(\"ol\").find_all(\"li\", class_=\"js-stream-item\")\n",
    "for tweet in tweets:\n",
    "    tweet_text = tweet.find(\"div\", class_=\"js-tweet-text-container\").text\n",
    "    if \"Sol \" in tweet_text:\n",
    "        mars_weather = tweet_text.strip()\n",
    "        break\n",
    "\n",
    "mars_weather"
   ]
  },
  {
   "cell_type": "markdown",
   "metadata": {},
   "source": [
    "Mars Facts"
   ]
  },
  {
   "cell_type": "code",
   "execution_count": null,
   "metadata": {},
   "outputs": [],
   "source": [
    "url='http://space-facts.com/mars/'"
   ]
  },
  {
   "cell_type": "code",
   "execution_count": null,
   "metadata": {},
   "outputs": [],
   "source": [
    "tables=pd.read_html(url)\n",
    "tables"
   ]
  },
  {
   "cell_type": "code",
   "execution_count": null,
   "metadata": {},
   "outputs": [],
   "source": [
    "type(tables)"
   ]
  },
  {
   "cell_type": "code",
   "execution_count": null,
   "metadata": {},
   "outputs": [],
   "source": [
    "df=tables[0]\n",
    "df.columns=['Description', 'Value']\n",
    "df.head()"
   ]
  },
  {
   "cell_type": "markdown",
   "metadata": {},
   "source": [
    "Mars Hemishperes"
   ]
  },
  {
   "cell_type": "code",
   "execution_count": null,
   "metadata": {},
   "outputs": [],
   "source": [
    "url ='https://astrogeology.usgs.gov/search/results?q=hemisphere+enhanced&k1=target&v1=Mars'\n",
    "browser.visit(url)"
   ]
  },
  {
   "cell_type": "code",
   "execution_count": null,
   "metadata": {},
   "outputs": [],
   "source": [
    "#hemisphere_image_urls = []\n",
    "results=soup.find('div', class_='result-list')#.find('a')['href']\n",
    "\n",
    "for result in results:\n",
    "    try:\n",
    "        img_url=a['href']\n",
    "        title=div.h3.text\n",
    "        \n",
    "        hemisphere_image_urls = {'title': title, \n",
    "                                'img_url': img_url}\n",
    "   \n",
    "        print(hemisphere_image_urls)"
   ]
  },
  {
   "cell_type": "code",
   "execution_count": null,
   "metadata": {},
   "outputs": [],
   "source": []
  }
 ],
 "metadata": {
  "kernelspec": {
   "display_name": "Python 3",
   "language": "python",
   "name": "python3"
  },
  "language_info": {
   "codemirror_mode": {
    "name": "ipython",
    "version": 3
   },
   "file_extension": ".py",
   "mimetype": "text/x-python",
   "name": "python",
   "nbconvert_exporter": "python",
   "pygments_lexer": "ipython3",
   "version": "3.7.0"
  }
 },
 "nbformat": 4,
 "nbformat_minor": 2
}
